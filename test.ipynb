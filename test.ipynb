{
 "cells": [
  {
   "cell_type": "code",
   "execution_count": 19,
   "metadata": {},
   "outputs": [
    {
     "name": "stdout",
     "output_type": "stream",
     "text": [
      "[50, 20, 30]\n"
     ]
    },
    {
     "data": {
      "text/plain": [
       "[2]"
      ]
     },
     "execution_count": 19,
     "metadata": {},
     "output_type": "execute_result"
    }
   ],
   "source": [
    "# Example lists\n",
    "teams = ['Team A', 'Team B', 'Team C', 'Team A']\n",
    "powers = [10, 20, 30, 40]\n",
    "\n",
    "# Create a dictionary to group powers by team\n",
    "team_powers = {}\n",
    "for team, power in zip(teams, powers):\n",
    "    if team not in team_powers:\n",
    "        team_powers[team] = []\n",
    "    team_powers[team].append(power)\n",
    "\n",
    "# Create a new list of combined powers for each team\n",
    "combined_powers = [sum(powers) for powers in team_powers.values()]\n",
    "print(combined_powers)\n",
    "random.choices(population=range(len(combined_powers)),weights=combined_powers)\n"
   ]
  },
  {
   "cell_type": "code",
   "execution_count": null,
   "metadata": {},
   "outputs": [],
   "source": []
  }
 ],
 "metadata": {
  "kernelspec": {
   "display_name": "kat",
   "language": "python",
   "name": "kat"
  },
  "language_info": {
   "codemirror_mode": {
    "name": "ipython",
    "version": 3
   },
   "file_extension": ".py",
   "mimetype": "text/x-python",
   "name": "python",
   "nbconvert_exporter": "python",
   "pygments_lexer": "ipython3",
   "version": "3.11.3"
  },
  "orig_nbformat": 4
 },
 "nbformat": 4,
 "nbformat_minor": 2
}
